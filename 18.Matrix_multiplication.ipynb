{
 "cells": [
  {
   "cell_type": "code",
   "execution_count": 4,
   "metadata": {},
   "outputs": [],
   "source": [
    "import numpy as np\n",
    "import torch"
   ]
  },
  {
   "attachments": {},
   "cell_type": "markdown",
   "metadata": {},
   "source": [
    "#  Using Numpy"
   ]
  },
  {
   "cell_type": "code",
   "execution_count": 6,
   "metadata": {},
   "outputs": [
    {
     "name": "stdout",
     "output_type": "stream",
     "text": [
      "[[ 3.79 -0.97 -1.3   1.7  -7.54]\n",
      " [ 3.91  0.68  2.63  1.08 -1.3 ]\n",
      " [-5.54 -0.51 -3.86  2.59 -2.35]]\n",
      " \n",
      "[[-1.52  0.06  1.49  1.68]\n",
      " [-0.17 -0.14  1.98 -0.48]\n",
      " [ 0.7   0.67 -2.65 -1.89]\n",
      " [-2.86  1.08 -0.14  1.82]\n",
      " [-2.34  1.35  2.69 -1.92]\n",
      " [-1.96  2.3  -1.37 -3.25]\n",
      " [ 0.85 -0.92  0.73  1.07]]\n",
      " \n"
     ]
    },
    {
     "data": {
      "text/plain": [
       "(None, None)"
      ]
     },
     "execution_count": 6,
     "metadata": {},
     "output_type": "execute_result"
    }
   ],
   "source": [
    "# create some radom matrices\n",
    "A = np.random.randn(3,4)\n",
    "B = np.random.randn(4,5)\n",
    "C = np.random.randn(3,7)\n",
    "\n",
    "# Try some multiply\n",
    "print(np.round(A@B, 2)), print(\" \") # @ is a symbol for Matrix Multiply\n",
    "print(np.round(C.T@A, 2)), print(\" \") # @ is a symbol for Matrix Multiply"
   ]
  },
  {
   "attachments": {},
   "cell_type": "markdown",
   "metadata": {},
   "source": [
    "# Using PyTorch"
   ]
  },
  {
   "cell_type": "code",
   "execution_count": 11,
   "metadata": {},
   "outputs": [
    {
     "name": "stdout",
     "output_type": "stream",
     "text": [
      "tensor([[-1.2800,  0.9000,  1.0800,  0.2900,  0.6000],\n",
      "        [-2.4100, -2.8800,  1.8500,  0.1300,  2.3100],\n",
      "        [ 6.5300, -2.4900, -5.3200, -0.0200, -6.8700]])\n",
      " \n",
      "tensor([[-0.3000,  0.3400, -2.8600, -1.3100,  0.1400,  2.6700,  2.7100],\n",
      "        [ 0.1400,  1.6200, -1.6300,  1.5000,  1.4900, -0.3100, -1.8400],\n",
      "        [ 0.8900, -3.2400,  4.1400, -1.4000,  2.5500, -3.0500, -2.8000]],\n",
      "       dtype=torch.float64)\n",
      " \n"
     ]
    },
    {
     "data": {
      "text/plain": [
       "(None, None)"
      ]
     },
     "execution_count": 11,
     "metadata": {},
     "output_type": "execute_result"
    }
   ],
   "source": [
    "# create some radom matrices\n",
    "A = torch.randn(3,4)\n",
    "B = torch.randn(4,5)\n",
    "C1 = np.random.randn(4,7)\n",
    "C2 = torch.tensor(C1, dtype=torch.float)\n",
    "\n",
    "# Try some multiply\n",
    "print(np.round(A@B, 2)), print(\" \") # @ is a symbol for Matrix Multiply\n",
    "print(np.round(A@C1, 2)), print(\" \") # @ is a symbol for Matrix Multiply"
   ]
  }
 ],
 "metadata": {
  "kernelspec": {
   "display_name": "base",
   "language": "python",
   "name": "python3"
  },
  "language_info": {
   "codemirror_mode": {
    "name": "ipython",
    "version": 3
   },
   "file_extension": ".py",
   "mimetype": "text/x-python",
   "name": "python",
   "nbconvert_exporter": "python",
   "pygments_lexer": "ipython3",
   "version": "3.10.9"
  },
  "orig_nbformat": 4
 },
 "nbformat": 4,
 "nbformat_minor": 2
}
