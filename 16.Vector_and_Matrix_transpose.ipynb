{
 "cells": [
  {
   "cell_type": "code",
   "execution_count": 1,
   "metadata": {},
   "outputs": [],
   "source": [
    "import numpy as np\n",
    "import torch"
   ]
  },
  {
   "attachments": {},
   "cell_type": "markdown",
   "metadata": {},
   "source": [
    "# Using Numpy"
   ]
  },
  {
   "cell_type": "code",
   "execution_count": 2,
   "metadata": {},
   "outputs": [
    {
     "name": "stdout",
     "output_type": "stream",
     "text": [
      "[[1 2 3 4]]\n",
      " \n",
      "[[1]\n",
      " [2]\n",
      " [3]\n",
      " [4]]\n",
      " \n",
      "[[1 2 3 4]]\n"
     ]
    }
   ],
   "source": [
    "#Create a vector\n",
    "nv = np.array([[1,2,3,4]])\n",
    "print(nv), print(\" \")\n",
    "\n",
    "#Transpose the Vector Nv\n",
    "print(nv.T), print(\" \")\n",
    "\n",
    "#Transpose the transpose\n",
    "nvT= nv.T # Transpose Function\n",
    "print(nvT.T)"
   ]
  },
  {
   "cell_type": "code",
   "execution_count": 3,
   "metadata": {},
   "outputs": [
    {
     "name": "stdout",
     "output_type": "stream",
     "text": [
      "[[1 2 3 4]\n",
      " [5 6 7 8]]\n",
      " \n",
      "[[1 5]\n",
      " [2 6]\n",
      " [3 7]\n",
      " [4 8]]\n",
      " \n",
      "[[1 2 3 4]\n",
      " [5 6 7 8]]\n"
     ]
    }
   ],
   "source": [
    "# Repeat for matrix\n",
    "nM = np.array([[1,2,3,4],[5,6,7,8]])\n",
    "print(nM), print(\" \")\n",
    "\n",
    "#Transpose the Matrix\n",
    "print(nM.T), print(\" \")\n",
    "\n",
    "#Transpose the Matrix Transpose\n",
    "nMT = nM.T # Transpose Fuction\n",
    "print(nMT.T)"
   ]
  },
  {
   "attachments": {},
   "cell_type": "markdown",
   "metadata": {},
   "source": [
    "# Using PyTorch"
   ]
  },
  {
   "cell_type": "code",
   "execution_count": 6,
   "metadata": {},
   "outputs": [
    {
     "name": "stdout",
     "output_type": "stream",
     "text": [
      "tensor([1, 2, 3, 4])\n",
      " \n",
      "tensor([1, 2, 3, 4])\n",
      " \n",
      "tensor([1, 2, 3, 4])\n"
     ]
    }
   ],
   "source": [
    "# Create a vector\n",
    "tv = torch.tensor([1,2,3,4])\n",
    "print(tv), print(\" \")\n",
    "\n",
    "#Transpose it\n",
    "print(tv.T), print(\" \")\n",
    "\n",
    "# Transpose the Transpose\n",
    "tvT = tv.T\n",
    "print(tvT.T)"
   ]
  },
  {
   "cell_type": "code",
   "execution_count": 8,
   "metadata": {},
   "outputs": [
    {
     "name": "stdout",
     "output_type": "stream",
     "text": [
      "tensor([[1, 2, 3, 4],\n",
      "        [5, 6, 7, 8]])\n",
      " \n",
      "tensor([[1, 5],\n",
      "        [2, 6],\n",
      "        [3, 7],\n",
      "        [4, 8]])\n",
      " \n",
      "tensor([[1, 2, 3, 4],\n",
      "        [5, 6, 7, 8]])\n"
     ]
    }
   ],
   "source": [
    "# Matrix using Pytorch\n",
    "# Repeat for matrix\n",
    "tM = torch.tensor([[1,2,3,4],[5,6,7,8]])\n",
    "print(tM), print(\" \")\n",
    "\n",
    "#Transpose the Matrix\n",
    "print(tM.T), print(\" \")\n",
    "\n",
    "#Transpose the Matrix Transpose\n",
    "tMT = tM.T # Transpose Fuction\n",
    "print(tMT.T)"
   ]
  },
  {
   "cell_type": "code",
   "execution_count": 10,
   "metadata": {},
   "outputs": [
    {
     "name": "stdout",
     "output_type": "stream",
     "text": [
      "Variable nv is of type: <class 'numpy.ndarray'>\n",
      "Variable nM is of type: <class 'numpy.ndarray'>\n",
      "Variable tv is of type: <class 'torch.Tensor'>\n",
      "Variable tM is of type: <class 'torch.Tensor'>\n"
     ]
    }
   ],
   "source": [
    "# Examine data type\n",
    "print(f\"Variable nv is of type: {type(nv)}\")\n",
    "print(f\"Variable nM is of type: {type(nM)}\")\n",
    "print(f\"Variable tv is of type: {type(tv)}\")\n",
    "print(f\"Variable tM is of type: {type(tM)}\")\n"
   ]
  }
 ],
 "metadata": {
  "kernelspec": {
   "display_name": "base",
   "language": "python",
   "name": "python3"
  },
  "language_info": {
   "codemirror_mode": {
    "name": "ipython",
    "version": 3
   },
   "file_extension": ".py",
   "mimetype": "text/x-python",
   "name": "python",
   "nbconvert_exporter": "python",
   "pygments_lexer": "ipython3",
   "version": "3.10.9"
  },
  "orig_nbformat": 4
 },
 "nbformat": 4,
 "nbformat_minor": 2
}
