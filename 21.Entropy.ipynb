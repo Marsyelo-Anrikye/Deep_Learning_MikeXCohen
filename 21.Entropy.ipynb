{
 "cells": [
  {
   "attachments": {},
   "cell_type": "markdown",
   "metadata": {},
   "source": [
    "# Entropy"
   ]
  },
  {
   "attachments": {},
   "cell_type": "markdown",
   "metadata": {},
   "source": [
    "Entropy it's **<font color = 'Red'>a quantity that describes the amount of surprise or uncertainty that we habe about a specifc variable</font>**. In particular, entropy is a maximal at probabillities of point five"
   ]
  },
  {
   "attachments": {},
   "cell_type": "markdown",
   "metadata": {},
   "source": [
    "$$\n",
    "H(p) = - \\sum_{x}p(x)log(p(x))\n",
    "$$"
   ]
  },
  {
   "attachments": {},
   "cell_type": "markdown",
   "metadata": {},
   "source": [
    "# Cross-Entropy\n",
    "\n",
    "Describe the **<font color = 'Red'>relationship between two probability distribuitions.</font>**"
   ]
  },
  {
   "attachments": {},
   "cell_type": "markdown",
   "metadata": {},
   "source": [
    "$$\n",
    "H(p) = - \\sum_{x}p(x)log(p(x))\n",
    "$$"
   ]
  },
  {
   "cell_type": "markdown",
   "metadata": {},
   "source": [
    "# Using Numpy"
   ]
  },
  {
   "cell_type": "code",
   "execution_count": 1,
   "metadata": {},
   "outputs": [],
   "source": [
    "import numpy as np\n",
    "import matplotlib.pyplot as plt"
   ]
  },
  {
   "attachments": {},
   "cell_type": "markdown",
   "metadata": {},
   "source": [
    "### Entropy Code"
   ]
  },
  {
   "cell_type": "code",
   "execution_count": 12,
   "metadata": {},
   "outputs": [
    {
     "name": "stdout",
     "output_type": "stream",
     "text": [
      "Correct Entropy: 0.5623351446188083\n"
     ]
    }
   ],
   "source": [
    "# Probability of a event happining\n",
    "x = [.25, .75]\n",
    "\n",
    "H = 0\n",
    "for p in x:\n",
    "    H -= p*np.log(p)\n",
    "    \n",
    "print('Correct Entropy: '+ str(H))"
   ]
  },
  {
   "cell_type": "code",
   "execution_count": 10,
   "metadata": {},
   "outputs": [
    {
     "name": "stdout",
     "output_type": "stream",
     "text": [
      "Correct Entropy: 0.5623351446188083\n"
     ]
    }
   ],
   "source": [
    "# Also correct, written out for N=2 events\n",
    "\n",
    "#Binary Entropy\n",
    "H = -( p*np.log(p) + (1-p)*np.log(1-p))\n",
    "\n",
    "print('Correct Entropy: '+str(H))"
   ]
  },
  {
   "attachments": {},
   "cell_type": "markdown",
   "metadata": {},
   "source": [
    "### Cross-Entropy Code"
   ]
  },
  {
   "cell_type": "code",
   "execution_count": 22,
   "metadata": {},
   "outputs": [
    {
     "name": "stdout",
     "output_type": "stream",
     "text": [
      "Cross Entropy is: 1.3862943611198906\n"
     ]
    }
   ],
   "source": [
    "# note: all probs must sum to 1!\n",
    "p = [1,0] # sum = 1\n",
    "q = [.25, .75] # sum = 1\n",
    "\n",
    "H = 0\n",
    "for i in range(len(p)):\n",
    "    H -= p[i]*np.log(q[i])\n",
    "    \n",
    "print('Cross Entropy is: ' + str(H))"
   ]
  },
  {
   "cell_type": "code",
   "execution_count": 17,
   "metadata": {},
   "outputs": [
    {
     "name": "stdout",
     "output_type": "stream",
     "text": [
      "Correct Cros entropy is: 1.3862943611198906\n"
     ]
    }
   ],
   "source": [
    "#also correct, written out for N=2 events\n",
    "H = -(p[0]*np.log(q[0]) + p[1]*np.log(q[1]))\n",
    "\n",
    "print('Correct Cros entropy is: '+str(H))"
   ]
  },
  {
   "cell_type": "code",
   "execution_count": 23,
   "metadata": {},
   "outputs": [
    {
     "name": "stdout",
     "output_type": "stream",
     "text": [
      "Manually simplified: 1.3862943611198906\n"
     ]
    }
   ],
   "source": [
    "# Simplification\n",
    "H = -np.log(q[0])\n",
    "print(\"Manually simplified: \"+str(H))"
   ]
  },
  {
   "attachments": {},
   "cell_type": "markdown",
   "metadata": {},
   "source": [
    "# Using Torch"
   ]
  },
  {
   "cell_type": "code",
   "execution_count": 24,
   "metadata": {},
   "outputs": [],
   "source": [
    "import torch\n",
    "import torch.nn.functional as F"
   ]
  },
  {
   "cell_type": "code",
   "execution_count": 27,
   "metadata": {},
   "outputs": [
    {
     "data": {
      "text/plain": [
       "tensor(1.3863)"
      ]
     },
     "execution_count": 27,
     "metadata": {},
     "output_type": "execute_result"
    }
   ],
   "source": [
    "#note: inputs must be Tensors\n",
    "q_tensor = torch.Tensor(q)\n",
    "p_tensor = torch.Tensor(p)\n",
    "\n",
    "\n",
    "\n",
    "F.binary_cross_entropy(q_tensor,p_tensor) # Q first than P"
   ]
  }
 ],
 "metadata": {
  "kernelspec": {
   "display_name": "base",
   "language": "python",
   "name": "python3"
  },
  "language_info": {
   "codemirror_mode": {
    "name": "ipython",
    "version": 3
   },
   "file_extension": ".py",
   "mimetype": "text/x-python",
   "name": "python",
   "nbconvert_exporter": "python",
   "pygments_lexer": "ipython3",
   "version": "3.10.9"
  },
  "orig_nbformat": 4
 },
 "nbformat": 4,
 "nbformat_minor": 2
}
