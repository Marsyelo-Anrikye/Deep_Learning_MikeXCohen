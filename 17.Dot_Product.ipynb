{
 "cells": [
  {
   "attachments": {},
   "cell_type": "markdown",
   "metadata": {},
   "source": [
    "## Dot Product"
   ]
  },
  {
   "cell_type": "code",
   "execution_count": 1,
   "metadata": {},
   "outputs": [],
   "source": [
    "import numpy as np\n",
    "import torch"
   ]
  },
  {
   "attachments": {},
   "cell_type": "markdown",
   "metadata": {},
   "source": [
    "# Using Numpy"
   ]
  },
  {
   "cell_type": "code",
   "execution_count": 5,
   "metadata": {},
   "outputs": [
    {
     "name": "stdout",
     "output_type": "stream",
     "text": [
      "DOT Product via Function is: -2\n",
      "DOT Product via Computation is: -2\n"
     ]
    }
   ],
   "source": [
    "# Create a vector\n",
    "nv1 = np.array([1,2,3,4])\n",
    "nv2 = np.array([0,1,0,-1])\n",
    "\n",
    "#DOT Product via Function\n",
    "print(\"DOT Product via Function is:\",(np.dot(nv1,nv2)))\n",
    "\n",
    "#DOT Product via Computation\n",
    "print(\"DOT Product via Computation is:\",(np.sum(nv1*nv2)))"
   ]
  },
  {
   "attachments": {},
   "cell_type": "markdown",
   "metadata": {},
   "source": [
    "# Using PyTorch"
   ]
  },
  {
   "cell_type": "code",
   "execution_count": 7,
   "metadata": {},
   "outputs": [
    {
     "name": "stdout",
     "output_type": "stream",
     "text": [
      "DOT Product via Function is: tensor(-2)\n",
      "DOT Product via Computation is: tensor(-2)\n"
     ]
    }
   ],
   "source": [
    "# Create a 3 Vector\n",
    "tv1 = torch.tensor([1,2,3,4])\n",
    "tv2 = torch.tensor([0,1,0,-1])\n",
    "tv3 = torch.tensor([1,2,3,4])\n",
    "\n",
    "#DOT Product via Function\n",
    "print(\"DOT Product via Function is:\",(torch.dot(tv1,tv2)))\n",
    "\n",
    "#DOT Product via Computation\n",
    "print(\"DOT Product via Computation is:\",(torch.sum(tv1*tv2)))"
   ]
  }
 ],
 "metadata": {
  "kernelspec": {
   "display_name": "base",
   "language": "python",
   "name": "python3"
  },
  "language_info": {
   "codemirror_mode": {
    "name": "ipython",
    "version": 3
   },
   "file_extension": ".py",
   "mimetype": "text/x-python",
   "name": "python",
   "nbconvert_exporter": "python",
   "pygments_lexer": "ipython3",
   "version": "3.10.9"
  },
  "orig_nbformat": 4
 },
 "nbformat": 4,
 "nbformat_minor": 2
}
